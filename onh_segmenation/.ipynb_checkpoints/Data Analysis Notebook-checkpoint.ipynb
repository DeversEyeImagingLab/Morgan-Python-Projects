{
 "cells": [
  {
   "cell_type": "code",
   "execution_count": 1,
   "id": "e0345390",
   "metadata": {},
   "outputs": [
    {
     "name": "stderr",
     "output_type": "stream",
     "text": [
      "C:\\Users\\tnemeth\\Miniconda3\\lib\\site-packages\\scipy\\__init__.py:146: UserWarning: A NumPy version >=1.16.5 and <1.23.0 is required for this version of SciPy (detected version 1.23.4\n",
      "  warnings.warn(f\"A NumPy version >={np_minversion} and <{np_maxversion}\"\n"
     ]
    }
   ],
   "source": [
    "import skimage.io as skio\n",
    "import matplotlib.pyplot as plt\n",
    "import numpy as np\n",
    "from scipy import ndimage"
   ]
  },
  {
   "cell_type": "code",
   "execution_count": 2,
   "id": "973ce697",
   "metadata": {},
   "outputs": [],
   "source": [
    "UM_PER_PIXEL = 1.23"
   ]
  },
  {
   "cell_type": "markdown",
   "id": "8f46883e",
   "metadata": {},
   "source": [
    "## Mean / SD Tortuosity"
   ]
  },
  {
   "cell_type": "code",
   "execution_count": 3,
   "id": "21a4df97",
   "metadata": {},
   "outputs": [
    {
     "name": "stdout",
     "output_type": "stream",
     "text": [
      "All Data: Mean, SD\n",
      "[[1.79371603 0.29460228]\n",
      " [2.25084955 0.44171288]\n",
      " [1.81484005 0.22633524]\n",
      " [2.0615261  0.105299  ]]\n",
      "\n",
      "Mean of means: 1.9802329329348942\n",
      "SD of means: 0.18840468087518963\n"
     ]
    }
   ],
   "source": [
    "tort_filenames = [\n",
    "    \"H005/H005_tortuosity_data.csv\",\n",
    "    \"H004/H004_tortuosity_data.csv\",\n",
    "    \"H001/H001_OD_central_tortuosity_data.csv\",\n",
    "    \"H001/H001_OS_tortuosity_data.csv\"\n",
    "]\n",
    "\n",
    "# [mean tort, SD tort]\n",
    "overall_tort_data = []\n",
    "\n",
    "for fn in tort_filenames:\n",
    "    this_data = np.loadtxt(fn, delimiter=\",\")\n",
    "    overall_tort_data.append([np.mean(this_data[:,3]), np.std(this_data[:,3])])\n",
    "\n",
    "overall_tort_data = np.asarray(overall_tort_data)\n",
    "\n",
    "print(\"All Data: Mean, SD\")\n",
    "print(overall_tort_data)\n",
    "\n",
    "#mean_of_means = \n",
    "print(\"\\nMean of means: \" + str(np.mean(overall_tort_data[:,0])))\n",
    "print(\"SD of means: \" + str(np.std(overall_tort_data[:,0])))\n",
    "\n",
    "# T test to show difference from Alexopoulos numbers\n",
    "#t_score = ()"
   ]
  },
  {
   "cell_type": "markdown",
   "id": "e8c1e5ce",
   "metadata": {},
   "source": [
    "## Perpendicular Pore Diameter Mean / SD"
   ]
  },
  {
   "cell_type": "code",
   "execution_count": 4,
   "id": "b987a469",
   "metadata": {},
   "outputs": [
    {
     "name": "stdout",
     "output_type": "stream",
     "text": [
      "All Data: Mean, SD\n",
      "[[52.5466065  43.95310464]\n",
      " [28.18853119 28.07693185]\n",
      " [50.41964409 43.08917873]\n",
      " [48.5110483  40.1486545 ]]\n",
      "\n",
      "Mean of means: 44.91645751919687\n",
      "SD of means: 9.762797218620282\n"
     ]
    }
   ],
   "source": [
    "data_filenames = [\n",
    "    \"H005/H005_pore_diameter_data.csv\",\n",
    "    \"H004/H004_pore_diameter_data.csv\",\n",
    "    \"H001/H001_OD_central_pore_diameter_data.csv\",\n",
    "    \"H001/H001_OS_pore_diameter_data.csv\"\n",
    "]\n",
    "\n",
    "# [mean PPD, SD PPD]\n",
    "overall_ppd_data = []\n",
    "\n",
    "# Loop over each file\n",
    "for fn in data_filenames:\n",
    "    this_data = np.loadtxt(fn, delimiter=\",\")\n",
    "    \n",
    "    # Axial Scaling\n",
    "    this_data[:,2] = this_data[:,2] * UM_PER_PIXEL\n",
    "    \n",
    "    # Remove outliers\n",
    "    outlier_cutoff = np.percentile(this_data[:,2], 95)\n",
    "    this_data = this_data[np.where(this_data[:,2] <= outlier_cutoff)]\n",
    "    \n",
    "    overall_ppd_data.append([np.mean(this_data[:,2]), np.std(this_data[:,2])])\n",
    "\n",
    "overall_ppd_data = np.asarray(overall_ppd_data)\n",
    "\n",
    "print(\"All Data: Mean, SD\")\n",
    "print(overall_ppd_data)\n",
    "\n",
    "print(\"\\nMean of means: \" + str(np.mean(overall_ppd_data[:,0])))\n",
    "print(\"SD of means: \" + str(np.std(overall_ppd_data[:,0])))"
   ]
  },
  {
   "cell_type": "markdown",
   "id": "a219df6c",
   "metadata": {},
   "source": [
    "## Enface Pore Diameter Mean / SD"
   ]
  },
  {
   "cell_type": "code",
   "execution_count": 5,
   "id": "249de396",
   "metadata": {},
   "outputs": [
    {
     "name": "stdout",
     "output_type": "stream",
     "text": [
      "All Data: Mean, SD\n",
      "[[47.77819616 20.23113757]\n",
      " [38.05378177 16.26817462]\n",
      " [48.40225516 16.09747629]\n",
      " [57.55674513 13.88285629]]\n",
      "\n",
      "Mean of means: 47.94774455591608\n",
      "SD of means: 6.900339091769839\n"
     ]
    }
   ],
   "source": [
    "data_filenames = [\n",
    "    \"H005/H005_enface_radii_data.csv\",\n",
    "    \"H004/H004_enface_radii_data.csv\",\n",
    "    \"H001/H001_OD_central_enface_radii_data.csv\",\n",
    "    \"H001/H001_OS_enface_radii_data.csv\"\n",
    "]\n",
    "\n",
    "# [mean PPD, SD PPD]\n",
    "overall_epd_data = []\n",
    "\n",
    "# Loop over each file\n",
    "for fn in data_filenames:\n",
    "    this_data = np.loadtxt(fn, delimiter=\",\")\n",
    "    \n",
    "    # Axial Scaling\n",
    "    this_data[:,2] = this_data[:,2] * UM_PER_PIXEL\n",
    "    \n",
    "    # Convert Radii to diameter\n",
    "    this_data[:,2] = this_data[:,2] * 2\n",
    "    \n",
    "    overall_epd_data.append([np.mean(this_data[:,2]), np.std(this_data[:,2])])\n",
    "\n",
    "overall_epd_data = np.asarray(overall_epd_data)\n",
    "\n",
    "print(\"All Data: Mean, SD\")\n",
    "print(overall_epd_data)\n",
    "\n",
    "print(\"\\nMean of means: \" + str(np.mean(overall_epd_data[:,0])))\n",
    "print(\"SD of means: \" + str(np.std(overall_epd_data[:,0])))"
   ]
  }
 ],
 "metadata": {
  "kernelspec": {
   "display_name": "Python 3 (ipykernel)",
   "language": "python",
   "name": "python3"
  },
  "language_info": {
   "codemirror_mode": {
    "name": "ipython",
    "version": 3
   },
   "file_extension": ".py",
   "mimetype": "text/x-python",
   "name": "python",
   "nbconvert_exporter": "python",
   "pygments_lexer": "ipython3",
   "version": "3.9.13"
  }
 },
 "nbformat": 4,
 "nbformat_minor": 5
}
