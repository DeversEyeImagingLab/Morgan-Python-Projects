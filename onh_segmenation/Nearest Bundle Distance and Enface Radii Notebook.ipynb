{
 "cells": [
  {
   "cell_type": "code",
   "execution_count": 1,
   "id": "fb2749e7",
   "metadata": {},
   "outputs": [
    {
     "name": "stderr",
     "output_type": "stream",
     "text": [
      "C:\\Users\\tnemeth\\Miniconda3\\lib\\site-packages\\scipy\\__init__.py:146: UserWarning: A NumPy version >=1.16.5 and <1.23.0 is required for this version of SciPy (detected version 1.23.4\n",
      "  warnings.warn(f\"A NumPy version >={np_minversion} and <{np_maxversion}\"\n"
     ]
    }
   ],
   "source": [
    "import skimage.io as skio\n",
    "import matplotlib.pyplot as plt\n",
    "import numpy as np\n",
    "from scipy import ndimage"
   ]
  },
  {
   "cell_type": "markdown",
   "id": "2395d98c",
   "metadata": {},
   "source": [
    "Input COG Data filename:"
   ]
  },
  {
   "cell_type": "code",
   "execution_count": 2,
   "id": "44d21f79",
   "metadata": {},
   "outputs": [],
   "source": [
    "all_cog_data_filename = \"H001/H001_OS_cog_data.csv\""
   ]
  },
  {
   "cell_type": "markdown",
   "id": "c947d824",
   "metadata": {},
   "source": [
    "Input labels (as tif) filename:"
   ]
  },
  {
   "cell_type": "code",
   "execution_count": 3,
   "id": "32023530",
   "metadata": {},
   "outputs": [],
   "source": [
    "labels_data_filename = \"H001/H001_OS_bundles.tif\""
   ]
  },
  {
   "cell_type": "markdown",
   "id": "8f2bbd33",
   "metadata": {},
   "source": [
    "Output Filenames:"
   ]
  },
  {
   "cell_type": "code",
   "execution_count": 4,
   "id": "155f1814",
   "metadata": {},
   "outputs": [],
   "source": [
    "nbd_output_file_prefix = \"H001/H001_OS_nbd_data\""
   ]
  },
  {
   "cell_type": "code",
   "execution_count": 5,
   "id": "6e816741",
   "metadata": {},
   "outputs": [],
   "source": [
    "radii_output_file_prefix = \"H001/H001_OS_enface_radii_data\""
   ]
  },
  {
   "cell_type": "markdown",
   "id": "bf023082",
   "metadata": {},
   "source": [
    "---"
   ]
  },
  {
   "cell_type": "code",
   "execution_count": 6,
   "id": "3a56ab6a",
   "metadata": {},
   "outputs": [
    {
     "data": {
      "text/plain": [
       "<matplotlib.image.AxesImage at 0x19ff0bb30d0>"
      ]
     },
     "execution_count": 6,
     "metadata": {},
     "output_type": "execute_result"
    },
    {
     "data": {
      "image/png": "[encoded data removed]",
      "text/plain": [
       "<Figure size 640x480 with 1 Axes>"
      ]
     },
     "metadata": {},
     "output_type": "display_data"
    }
   ],
   "source": [
    "labels_data = skio.imread(labels_data_filename, plugin=\"tifffile\")\n",
    "plt.imshow(labels_data[220,:,:])"
   ]
  },
  {
   "cell_type": "markdown",
   "id": "bc2f4608",
   "metadata": {},
   "source": [
    "## Calculate Nearest Bundle Distance"
   ]
  },
  {
   "cell_type": "code",
   "execution_count": 7,
   "id": "c2524912",
   "metadata": {},
   "outputs": [],
   "source": [
    "# Load COG Data\n",
    "# [bundle number, slice_x, cog_y, cog_z]\n",
    "all_cog_data = np.loadtxt(all_cog_data_filename, delimiter=\",\")"
   ]
  },
  {
   "cell_type": "code",
   "execution_count": 8,
   "id": "c551bf50",
   "metadata": {},
   "outputs": [],
   "source": [
    "# Organize Data\n",
    "# [slice_x, bundle 1, bundle 2, beam width]\n",
    "nbd_data = []"
   ]
  },
  {
   "cell_type": "code",
   "execution_count": 9,
   "id": "bba2d6b1",
   "metadata": {},
   "outputs": [],
   "source": [
    "# Loop over all slices\n",
    "for slice_x in range(0, labels_data.shape[0]):\n",
    "\n",
    "    # Find all bundles on same slice\n",
    "    bundles_on_slice = all_cog_data[np.where(all_cog_data[:,1] == slice_x)]\n",
    "    \n",
    "    # Loop over each bundle\n",
    "    for bundle_i in range(0, len(bundles_on_slice)):\n",
    "    \n",
    "        # Get a bundle COG\n",
    "        bundle_a_cog_y = bundles_on_slice[bundle_i,2] \n",
    "        bundle_a_cog_z = bundles_on_slice[bundle_i,3]\n",
    "        this_bundle = bundles_on_slice[bundle_i,0]\n",
    "\n",
    "        # Find the closest bundle\n",
    "        closest_bundle = -1\n",
    "        distance = np.inf\n",
    "        for i in range(0, len(bundles_on_slice)):\n",
    "            if bundles_on_slice[i,0] != this_bundle:\n",
    "                diff_y = abs(bundle_a_cog_y - bundles_on_slice[i,2])\n",
    "                diff_z = abs(bundle_a_cog_z - bundles_on_slice[i,3])\n",
    "                if (diff_y + diff_z) < distance:\n",
    "                    distance = diff_y + diff_z\n",
    "                    closest_bundle = bundles_on_slice[i,0]\n",
    "    \n",
    "        nbd_data.append([slice_x, this_bundle, closest_bundle, distance])"
   ]
  },
  {
   "cell_type": "code",
   "execution_count": 10,
   "id": "a2a51516",
   "metadata": {},
   "outputs": [],
   "source": [
    "np.savetxt((nbd_output_file_prefix + \".csv\"), nbd_data, delimiter=\",\")"
   ]
  },
  {
   "cell_type": "markdown",
   "id": "927cab78",
   "metadata": {},
   "source": [
    "## Calculate Enface Radii"
   ]
  },
  {
   "cell_type": "code",
   "execution_count": 11,
   "id": "5ff1574f",
   "metadata": {},
   "outputs": [],
   "source": [
    "radii_data = []"
   ]
  },
  {
   "cell_type": "code",
   "execution_count": 12,
   "id": "4309192b",
   "metadata": {},
   "outputs": [],
   "source": [
    "# Loop over all slices\n",
    "for slice_x in range(0, labels_data.shape[0]):\n",
    "\n",
    "    # Find all bundles on same slice\n",
    "    bundles_on_slice = all_cog_data[np.where(all_cog_data[:,1] == slice_x)]\n",
    "    \n",
    "    # Loop over each bundle\n",
    "    for bundle_i in range(0, len(bundles_on_slice)):\n",
    "    \n",
    "        # Get bundle number\n",
    "        # [bundle number, slice_x, cog_y, cog_z]\n",
    "        this_bundle = bundles_on_slice[bundle_i,0]\n",
    "    \n",
    "        # Get area and radius\n",
    "        area_1 = 0\n",
    "        for yi in range(0, labels_data.shape[1]):\n",
    "            for zi in range(0, labels_data.shape[2]):\n",
    "                if labels_data[slice_x, yi, zi] == this_bundle:\n",
    "                    area_1 = area_1 + 1\n",
    "    \n",
    "        radius_1 = np.sqrt(area_1 / np.pi) \n",
    "    \n",
    "        # Append to data\n",
    "        radii_data.append([slice_x, this_bundle, radius_1])"
   ]
  },
  {
   "cell_type": "code",
   "execution_count": 13,
   "id": "5a2189bb",
   "metadata": {},
   "outputs": [],
   "source": [
    "np.savetxt((radii_output_file_prefix + \".csv\"), radii_data, delimiter=\",\")"
   ]
  },
  {
   "cell_type": "markdown",
   "id": "5b9c006c",
   "metadata": {},
   "source": [
    "---"
   ]
  }
 ],
 "metadata": {
  "kernelspec": {
   "display_name": "Python 3 (ipykernel)",
   "language": "python",
   "name": "python3"
  },
  "language_info": {
   "codemirror_mode": {
    "name": "ipython",
    "version": 3
   },
   "file_extension": ".py",
   "mimetype": "text/x-python",
   "name": "python",
   "nbconvert_exporter": "python",
   "pygments_lexer": "ipython3",
   "version": "3.9.13"
  }
 },
 "nbformat": 4,
 "nbformat_minor": 5
}
