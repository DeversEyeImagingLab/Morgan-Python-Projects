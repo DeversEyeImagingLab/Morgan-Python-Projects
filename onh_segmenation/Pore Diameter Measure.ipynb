{
 "cells": [
  {
   "cell_type": "code",
   "execution_count": 1,
   "id": "fb2749e7",
   "metadata": {},
   "outputs": [
    {
     "name": "stderr",
     "output_type": "stream",
     "text": [
      "C:\\Users\\tnemeth\\Miniconda3\\lib\\site-packages\\scipy\\__init__.py:146: UserWarning: A NumPy version >=1.16.5 and <1.23.0 is required for this version of SciPy (detected version 1.23.4\n",
      "  warnings.warn(f\"A NumPy version >={np_minversion} and <{np_maxversion}\"\n"
     ]
    }
   ],
   "source": [
    "import skimage.io as skio\n",
    "import matplotlib.pyplot as plt\n",
    "import numpy as np\n",
    "from scipy import ndimage"
   ]
  },
  {
   "cell_type": "markdown",
   "id": "2395d98c",
   "metadata": {},
   "source": [
    "Input Source Image filename:"
   ]
  },
  {
   "cell_type": "code",
   "execution_count": 2,
   "id": "44d21f79",
   "metadata": {},
   "outputs": [],
   "source": [
    "all_cog_data_filename = \"H001/H001_OS_cog_data.csv\""
   ]
  },
  {
   "cell_type": "markdown",
   "id": "c947d824",
   "metadata": {},
   "source": [
    "Input labels (as tif) filename:"
   ]
  },
  {
   "cell_type": "code",
   "execution_count": 3,
   "id": "32023530",
   "metadata": {},
   "outputs": [],
   "source": [
    "labels_data_filename = \"H001/H001_OS_bundles.tif\""
   ]
  },
  {
   "cell_type": "markdown",
   "id": "8f2bbd33",
   "metadata": {},
   "source": [
    "Output Filenames:"
   ]
  },
  {
   "cell_type": "code",
   "execution_count": 4,
   "id": "155f1814",
   "metadata": {},
   "outputs": [],
   "source": [
    "pore_diameter_output_file_prefix = \"H001_OS_pore_diameter_data\""
   ]
  },
  {
   "cell_type": "markdown",
   "id": "917ed749",
   "metadata": {},
   "source": [
    "---"
   ]
  },
  {
   "cell_type": "code",
   "execution_count": 5,
   "id": "3a56ab6a",
   "metadata": {},
   "outputs": [
    {
     "data": {
      "text/plain": [
       "<matplotlib.image.AxesImage at 0x229bdca4040>"
      ]
     },
     "execution_count": 5,
     "metadata": {},
     "output_type": "execute_result"
    },
    {
     "data": {
      "image/png": "[encoded data removed]",
      "text/plain": [
       "<Figure size 640x480 with 1 Axes>"
      ]
     },
     "metadata": {},
     "output_type": "display_data"
    }
   ],
   "source": [
    "labels_data = skio.imread(labels_data_filename, plugin=\"tifffile\")\n",
    "plt.imshow(labels_data[200,:,:])"
   ]
  },
  {
   "cell_type": "code",
   "execution_count": 7,
   "id": "c2524912",
   "metadata": {},
   "outputs": [],
   "source": [
    "# Data Organization\n",
    "# [group_number, slice_x, cog_y, cog_z]\n",
    "all_cog_data = np.loadtxt(all_cog_data_filename, delimiter=\",\")"
   ]
  },
  {
   "cell_type": "code",
   "execution_count": 8,
   "id": "2c94afb2",
   "metadata": {},
   "outputs": [],
   "source": [
    "# Data organization\n",
    "# [Bundle number, slice x, pore diameter]\n",
    "pore_diameter_data = []"
   ]
  },
  {
   "cell_type": "code",
   "execution_count": 9,
   "id": "12150c7c",
   "metadata": {},
   "outputs": [],
   "source": [
    "# Loop over each bundle\n",
    "bundles = np.unique(all_cog_data[:,0])\n",
    "for bundle_number in bundles:\n",
    "    \n",
    "    # Get data for only this bundle\n",
    "    this_bundle_data = all_cog_data[np.where(all_cog_data[:,0] == bundle_number)]\n",
    "    \n",
    "    # Start from bottom, work to top of axon bundle\n",
    "    for i in range(0, len(this_bundle_data) - 1):\n",
    "        \n",
    "        # Reset pore diameter\n",
    "        pore_diameter = 0\n",
    "        \n",
    "        # Get slice x\n",
    "        slice_x = int(this_bundle_data[i,1])\n",
    "        #print(slice_x)\n",
    "        \n",
    "        # Find b and c (vector coefficients)\n",
    "        b_coef = this_bundle_data[i+1, 2] - this_bundle_data[i,2]\n",
    "        c_coef = this_bundle_data[i+1, 3] - this_bundle_data[i,3]\n",
    "        #print(b_coef)\n",
    "        #print(c_coef)\n",
    "        \n",
    "        # Calculate d where by + cz + d = 0\n",
    "        d_coef = (b_coef * this_bundle_data[i,2]) + (c_coef * this_bundle_data[i,3])\n",
    "        #print(d_coef)\n",
    "        #print(\"=====\")\n",
    "        \n",
    "        # Find coordinates of each label pixels for this bundle on this slice\n",
    "        label_pixels = []\n",
    "        for yi in range(0, labels_data.shape[1]):\n",
    "            for zi in range(0, labels_data.shape[2]):\n",
    "                if labels_data[slice_x, yi, zi] == bundle_number:\n",
    "                    label_pixels.append([yi,zi])\n",
    "                    #print([yi,zi])\n",
    "        \n",
    "        # Now check each pixel to see if they fall on the line intersecting the perpendicular plane\n",
    "        for pix_index in range(0, len(label_pixels)):\n",
    "            if abs((b_coef * label_pixels[pix_index][0]) + (c_coef * label_pixels[pix_index][1]) - d_coef) <= 0.5:\n",
    "                pore_diameter = pore_diameter + 1\n",
    "\n",
    "        # Add to data array\n",
    "        pore_diameter_data.append([bundle_number, slice_x, pore_diameter])"
   ]
  },
  {
   "cell_type": "code",
   "execution_count": 10,
   "id": "5a2189bb",
   "metadata": {},
   "outputs": [],
   "source": [
    "np.savetxt((pore_diameter_output_file_prefix + \".csv\"), pore_diameter_data, delimiter=\",\")"
   ]
  },
  {
   "cell_type": "markdown",
   "id": "5b9c006c",
   "metadata": {},
   "source": [
    "---"
   ]
  },
  {
   "cell_type": "markdown",
   "id": "2d35bd93",
   "metadata": {},
   "source": [
    "## Pore Diameter Data Analysis"
   ]
  },
  {
   "cell_type": "code",
   "execution_count": 6,
   "id": "90254345",
   "metadata": {},
   "outputs": [],
   "source": [
    "pore_diameter_filename = \"H005_pore_diameter_data.csv\""
   ]
  },
  {
   "cell_type": "code",
   "execution_count": 7,
   "id": "c5528396",
   "metadata": {},
   "outputs": [],
   "source": [
    "# Load in data\n",
    "# [Bundle number, slice x, pore diameter]\n",
    "pore_diameter_data = np.loadtxt(pore_diameter_filename, delimiter=\",\")"
   ]
  },
  {
   "cell_type": "code",
   "execution_count": 30,
   "id": "40a766ac",
   "metadata": {},
   "outputs": [
    {
     "data": {
      "text/plain": [
       "35.0"
      ]
     },
     "execution_count": 30,
     "metadata": {},
     "output_type": "execute_result"
    }
   ],
   "source": [
    "np.median(pore_diameter_data[:,2])"
   ]
  },
  {
   "cell_type": "markdown",
   "id": "6c063d7c",
   "metadata": {},
   "source": [
    "### Distribution of Pore Diameters 0-100"
   ]
  },
  {
   "cell_type": "code",
   "execution_count": 17,
   "id": "f91abf3d",
   "metadata": {},
   "outputs": [
    {
     "data": {
      "text/plain": [
       "(array([201., 320., 246., 204., 178., 122.,  70.,  72.,  54.,  47.]),\n",
       " array([  0.,  10.,  20.,  30.,  40.,  50.,  60.,  70.,  80.,  90., 100.]),\n",
       " <BarContainer object of 10 artists>)"
      ]
     },
     "execution_count": 17,
     "metadata": {},
     "output_type": "execute_result"
    },
    {
     "data": {
      "image/png": "[encoded data removed]",
      "text/plain": [
       "<Figure size 640x480 with 1 Axes>"
      ]
     },
     "metadata": {},
     "output_type": "display_data"
    }
   ],
   "source": [
    "fig, ax = plt.subplots()\n",
    "ax.hist(pore_diameter_data[:,2], range=[0,100])"
   ]
  },
  {
   "cell_type": "markdown",
   "id": "d737891d",
   "metadata": {},
   "source": [
    "### Distribution of all Pore Diameters"
   ]
  },
  {
   "cell_type": "code",
   "execution_count": 18,
   "id": "aadaccc7",
   "metadata": {},
   "outputs": [
    {
     "data": {
      "text/plain": [
       "(array([1.726e+03, 1.600e+01, 4.000e+00, 2.000e+00, 0.000e+00, 1.000e+00,\n",
       "        0.000e+00, 0.000e+00, 0.000e+00, 1.000e+00]),\n",
       " array([   0. ,  391.5,  783. , 1174.5, 1566. , 1957.5, 2349. , 2740.5,\n",
       "        3132. , 3523.5, 3915. ]),\n",
       " <BarContainer object of 10 artists>)"
      ]
     },
     "execution_count": 18,
     "metadata": {},
     "output_type": "execute_result"
    },
    {
     "data": {
      "image/png": "[encoded data removed]",
      "text/plain": [
       "<Figure size 640x480 with 1 Axes>"
      ]
     },
     "metadata": {},
     "output_type": "display_data"
    }
   ],
   "source": [
    "fig, ax = plt.subplots()\n",
    "ax.hist(pore_diameter_data[:,2])"
   ]
  },
  {
   "cell_type": "markdown",
   "id": "5a74c959",
   "metadata": {},
   "source": [
    "### Comparing PD to depth"
   ]
  },
  {
   "cell_type": "code",
   "execution_count": 28,
   "id": "214ff8a4",
   "metadata": {},
   "outputs": [
    {
     "data": {
      "text/plain": [
       "(array([[ 3.,  2.,  0.,  0.,  0.,  0.,  0.,  0.,  0.,  0.],\n",
       "        [ 3.,  7.,  7.,  2.,  4.,  0.,  0.,  0.,  1.,  0.],\n",
       "        [13., 21.,  7., 11., 10.,  2.,  2.,  5.,  0.,  1.],\n",
       "        [66., 83., 54., 33., 28., 12., 10.,  5.,  3.,  6.],\n",
       "        [49., 71., 55., 37., 29., 22.,  9.,  8.,  9.,  4.],\n",
       "        [17., 51., 44., 49., 43., 32., 15., 18., 11.,  9.],\n",
       "        [22., 34., 31., 34., 30., 30., 15., 14., 17.,  7.],\n",
       "        [18., 30., 26., 28., 23., 14., 10., 14.,  6., 10.],\n",
       "        [10., 17., 18., 10.,  9., 10.,  9.,  5.,  7., 10.],\n",
       "        [ 0.,  4.,  4.,  0.,  2.,  0.,  0.,  3.,  0.,  0.]]),\n",
       " array([175., 200., 225., 250., 275., 300., 325., 350., 375., 400., 425.]),\n",
       " array([  0.,  10.,  20.,  30.,  40.,  50.,  60.,  70.,  80.,  90., 100.]),\n",
       " <matplotlib.collections.QuadMesh at 0x22cc18bff40>)"
      ]
     },
     "execution_count": 28,
     "metadata": {},
     "output_type": "execute_result"
    },
    {
     "data": {
      "image/png": "[encoded data removed]",
      "text/plain": [
       "<Figure size 640x480 with 1 Axes>"
      ]
     },
     "metadata": {},
     "output_type": "display_data"
    }
   ],
   "source": [
    "fig, ax = plt.subplots()\n",
    "ax.hist2d(pore_diameter_data[:,1], pore_diameter_data[:,2], range=[[175,425],[0,100]])"
   ]
  },
  {
   "cell_type": "markdown",
   "id": "8f39c133",
   "metadata": {},
   "source": [
    "Explanation: This 2D histogram plots the depth (Z Slice) on the x axis vs length of the pore diameter on the y axis. Color intensity represents the frequency of values - i.e. The most "
   ]
  }
 ],
 "metadata": {
  "kernelspec": {
   "display_name": "Python 3 (ipykernel)",
   "language": "python",
   "name": "python3"
  },
  "language_info": {
   "codemirror_mode": {
    "name": "ipython",
    "version": 3
   },
   "file_extension": ".py",
   "mimetype": "text/x-python",
   "name": "python",
   "nbconvert_exporter": "python",
   "pygments_lexer": "ipython3",
   "version": "3.9.13"
  }
 },
 "nbformat": 4,
 "nbformat_minor": 5
}
