{
 "cells": [
  {
   "cell_type": "code",
   "execution_count": 1,
   "id": "e0345390",
   "metadata": {},
   "outputs": [
    {
     "name": "stderr",
     "output_type": "stream",
     "text": [
      "C:\\Users\\tnemeth\\Miniconda3\\lib\\site-packages\\scipy\\__init__.py:146: UserWarning: A NumPy version >=1.16.5 and <1.23.0 is required for this version of SciPy (detected version 1.23.4\n",
      "  warnings.warn(f\"A NumPy version >={np_minversion} and <{np_maxversion}\"\n"
     ]
    }
   ],
   "source": [
    "import skimage.io as skio\n",
    "import matplotlib.pyplot as plt\n",
    "import numpy as np\n",
    "from scipy import ndimage"
   ]
  },
  {
   "cell_type": "code",
   "execution_count": 2,
   "id": "973ce697",
   "metadata": {},
   "outputs": [],
   "source": [
    "UM_PER_PIXEL = 1.23"
   ]
  },
  {
   "cell_type": "markdown",
   "id": "8f46883e",
   "metadata": {},
   "source": [
    "## Glial Separation Calculation"
   ]
  },
  {
   "cell_type": "code",
   "execution_count": 66,
   "id": "281a1600",
   "metadata": {},
   "outputs": [],
   "source": [
    "glial_data_filename = \"H001/H001_OS_glial_slice.png\""
   ]
  },
  {
   "cell_type": "code",
   "execution_count": 67,
   "id": "e96441f8",
   "metadata": {},
   "outputs": [],
   "source": [
    "number_of_bundles = 15"
   ]
  },
  {
   "cell_type": "code",
   "execution_count": 68,
   "id": "8806e16a",
   "metadata": {},
   "outputs": [
    {
     "data": {
      "text/plain": [
       "<matplotlib.image.AxesImage at 0x25c5b425070>"
      ]
     },
     "execution_count": 68,
     "metadata": {},
     "output_type": "execute_result"
    },
    {
     "data": {
      "image/png": "[encoded data removed]",
      "text/plain": [
       "<Figure size 640x480 with 1 Axes>"
      ]
     },
     "metadata": {},
     "output_type": "display_data"
    }
   ],
   "source": [
    "glial_data = skio.imread(glial_data_filename)\n",
    "\n",
    "# Convert glial data to more usable format\n",
    "label_data = np.zeros((glial_data.shape[0], glial_data.shape[1]))\n",
    "for xi in range(0, glial_data.shape[0]):\n",
    "    for yi in range(0, glial_data.shape[1]):\n",
    "        if (glial_data[xi, yi, 0] > 0) or (glial_data[xi, yi, 1] > 0) or (glial_data[xi, yi, 2] > 0):\n",
    "            label_data[xi,yi] = 1\n",
    "            \n",
    "plt.imshow(label_data)"
   ]
  },
  {
   "cell_type": "code",
   "execution_count": 69,
   "id": "8abf94c1",
   "metadata": {
    "scrolled": true
   },
   "outputs": [
    {
     "name": "stdout",
     "output_type": "stream",
     "text": [
      "Glial separation: \n",
      "15.088 um\n"
     ]
    }
   ],
   "source": [
    "# Find the highest labelled pixel\n",
    "peak_pixel = [-1,-1]\n",
    "\n",
    "for xi in range(0, label_data.shape[0]):\n",
    "    for yi in range(0, label_data.shape[1]):\n",
    "        if label_data[xi, yi] == 1:\n",
    "            peak_pixel = [xi, yi]\n",
    "            break\n",
    "    if peak_pixel[0] >= 0:\n",
    "        break\n",
    "        \n",
    "# Find the lowest pixel on the same axis\n",
    "lowest_pixel = [-1, peak_pixel[1]]\n",
    "\n",
    "for xi in range(label_data.shape[0] - 1, -1, -1):\n",
    "    if label_data[xi, peak_pixel[1]] == 1:\n",
    "        lowest_pixel[0] = xi\n",
    "        break\n",
    "        \n",
    "# Calculate Glial separation:\n",
    "distance = (lowest_pixel[0] - peak_pixel[0]) * UM_PER_PIXEL\n",
    "separation = distance / number_of_bundles\n",
    "print(\"Glial separation: \")\n",
    "print(str(separation) + \" um\")"
   ]
  }
 ],
 "metadata": {
  "kernelspec": {
   "display_name": "Python 3 (ipykernel)",
   "language": "python",
   "name": "python3"
  },
  "language_info": {
   "codemirror_mode": {
    "name": "ipython",
    "version": 3
   },
   "file_extension": ".py",
   "mimetype": "text/x-python",
   "name": "python",
   "nbconvert_exporter": "python",
   "pygments_lexer": "ipython3",
   "version": "3.9.13"
  }
 },
 "nbformat": 4,
 "nbformat_minor": 5
}
